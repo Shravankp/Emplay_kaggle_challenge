{
  "cells": [
    {
      "metadata": {
        "_uuid": "818c07d546724ff29299926397a63c5814980b85"
      },
      "cell_type": "markdown",
      "source": "**Google Analytics Customer Revenue Prediction**\n\nTo predict - How much GStore customers will spend using EDA and ML models.\n\nGiven in problem description, the 80/20 rule - 80% of revenue comes from only 20% of the customers.So our task is to predict those customers who contribute the most to Gstore's revenue (using natural log of sum of all transactions per user)."
    },
    {
      "metadata": {
        "_kg_hide-input": false,
        "_kg_hide-output": false,
        "trusted": true,
        "_uuid": "5ffd9f80ec36e2ac2ac1335040a3b02f848586de"
      },
      "cell_type": "code",
      "source": "import json\nimport numpy as np\nimport pandas as pd\nfrom pandas.io.json import json_normalize\nimport matplotlib.pyplot as plt\nimport seaborn as sns\nfrom sklearn import model_selection, preprocessing, metrics\nimport lightgbm as lgb",
      "execution_count": 48,
      "outputs": []
    },
    {
      "metadata": {
        "_kg_hide-output": false,
        "_kg_hide-input": true,
        "trusted": true,
        "_uuid": "364c04ae9fdb6bf9d7b2709618a521bfda06e01a"
      },
      "cell_type": "code",
      "source": "color = sns.color_palette()\n\n%matplotlib inline\n\nfrom plotly import tools\nimport plotly.offline as py\npy.init_notebook_mode(connected=True)\nimport plotly.graph_objs as go\n\npd.options.mode.chained_assignment = None\npd.options.display.max_columns = 999",
      "execution_count": 49,
      "outputs": [
        {
          "output_type": "display_data",
          "data": {
            "text/html": "<script>requirejs.config({paths: { 'plotly': ['https://cdn.plot.ly/plotly-latest.min']},});if(!window.Plotly) {{require(['plotly'],function(plotly) {window.Plotly=plotly;});}}</script>",
            "text/vnd.plotly.v1+html": "<script>requirejs.config({paths: { 'plotly': ['https://cdn.plot.ly/plotly-latest.min']},});if(!window.Plotly) {{require(['plotly'],function(plotly) {window.Plotly=plotly;});}}</script>"
          },
          "metadata": {}
        }
      ]
    },
    {
      "metadata": {
        "_uuid": "0dfa0da1144dce3f2bd5032d78dcb402c5d95395"
      },
      "cell_type": "markdown",
      "source": "The data fields in the given files are \n* fullVisitorId- A unique identifier for each user of the Google Merchandise Store.\n* channelGrouping - The channel via which the user came to the Store.\n* date - The date on which the user visited the Store.\n* device - The specifications for the device used to access the Store.\n* geoNetwork - This section contains information about the geography of the user.\n* sessionId - A unique identifier for this visit to the store.\n* socialEngagementType - Engagement type, either \"Socially Engaged\" or \"Not Socially Engaged\".\n* totals - This section contains aggregate values across the session.\n* trafficSource - This section contains information about the Traffic Source from which the session originated.\n* visitId - An identifier for this session. This is part of the value usually stored as the _utmb cookie. This is only unique to the user. For a completely unique ID, you should use a combination of fullVisitorId and visitId.\n* visitNumber - The session number for this user. If this is the first session, then this is set to 1.\n* visitStartTime - The timestamp (expressed as POSIX time).\n\n**Note:** \nSome columns contain serialised JSON as strings which should be deserialised and converted to seperate columns.\n"
    },
    {
      "metadata": {
        "_uuid": "72754b71c17b37e08d47962b400904ead29692df",
        "trusted": true
      },
      "cell_type": "code",
      "source": "def load_df(csv_path='./train.csv', nrows=None):\n    JSON_COLUMNS = ['device', 'geoNetwork', 'totals', 'trafficSource']\n    \n    df = pd.read_csv(csv_path, \n                     converters={column: json.loads for column in JSON_COLUMNS}, #json.loads takes in a string and converts to dict or list object.\n                     dtype={'fullVisitorId': 'str'}, #convert id to string\n                     nrows=nrows)\n    \n\n    for column in JSON_COLUMNS:\n        column_as_df = json_normalize(df[column])  #converts semi-structured json to flat table.\n        column_as_df.columns = [f\"{column}.{subcolumn}\" for subcolumn in column_as_df.columns]\n        df = df.drop(column, axis=1).merge(column_as_df, right_index=True, left_index=True)\n    print(f\"Shape: {df.shape}\")\n    return df",
      "execution_count": 50,
      "outputs": []
    },
    {
      "metadata": {
        "_uuid": "37d1ce822f9f4bbdb2284ff8bfcd131f2b556700",
        "trusted": true
      },
      "cell_type": "code",
      "source": "train_df = load_df(\"../input/train.csv\")\ntest_df = load_df(\"../input/test.csv\")\n#train_df.to_csv(\"train_sep_cols\")\n#test_df.to_csv(\"test_sep_cols\")\n#train_df = load_df(\"./train_sep_cols\")\n#test_df = load_df(\"./test_sep_cols\")",
      "execution_count": 51,
      "outputs": [
        {
          "output_type": "stream",
          "text": "Shape: (903653, 55)\nShape: (804684, 53)\n",
          "name": "stdout"
        }
      ]
    },
    {
      "metadata": {
        "_cell_guid": "b1076dfc-b9ad-4769-8c92-a6c4dae69d19",
        "_uuid": "8f2839f25d086af736a60e9eeb907d3b93b6e0e5",
        "trusted": true
      },
      "cell_type": "code",
      "source": "train_df.head()",
      "execution_count": 53,
      "outputs": [
        {
          "output_type": "execute_result",
          "execution_count": 53,
          "data": {
            "text/plain": "  channelGrouping      date        fullVisitorId  \\\n0  Organic Search  20160902  1131660440785968503   \n1  Organic Search  20160902   377306020877927890   \n2  Organic Search  20160902  3895546263509774583   \n3  Organic Search  20160902  4763447161404445595   \n4  Organic Search  20160902    27294437909732085   \n\n                        sessionId  socialEngagementType     visitId  \\\n0  1131660440785968503_1472830385  Not Socially Engaged  1472830385   \n1   377306020877927890_1472880147  Not Socially Engaged  1472880147   \n2  3895546263509774583_1472865386  Not Socially Engaged  1472865386   \n3  4763447161404445595_1472881213  Not Socially Engaged  1472881213   \n4    27294437909732085_1472822600  Not Socially Engaged  1472822600   \n\n   visitNumber  visitStartTime device.browser             device.browserSize  \\\n0            1      1472830385         Chrome  not available in demo dataset   \n1            1      1472880147        Firefox  not available in demo dataset   \n2            1      1472865386         Chrome  not available in demo dataset   \n3            1      1472881213     UC Browser  not available in demo dataset   \n4            2      1472822600         Chrome  not available in demo dataset   \n\n           device.browserVersion device.deviceCategory  \\\n0  not available in demo dataset               desktop   \n1  not available in demo dataset               desktop   \n2  not available in demo dataset               desktop   \n3  not available in demo dataset               desktop   \n4  not available in demo dataset                mobile   \n\n             device.flashVersion  device.isMobile  \\\n0  not available in demo dataset            False   \n1  not available in demo dataset            False   \n2  not available in demo dataset            False   \n3  not available in demo dataset            False   \n4  not available in demo dataset             True   \n\n                 device.language    device.mobileDeviceBranding  \\\n0  not available in demo dataset  not available in demo dataset   \n1  not available in demo dataset  not available in demo dataset   \n2  not available in demo dataset  not available in demo dataset   \n3  not available in demo dataset  not available in demo dataset   \n4  not available in demo dataset  not available in demo dataset   \n\n         device.mobileDeviceInfo device.mobileDeviceMarketingName  \\\n0  not available in demo dataset    not available in demo dataset   \n1  not available in demo dataset    not available in demo dataset   \n2  not available in demo dataset    not available in demo dataset   \n3  not available in demo dataset    not available in demo dataset   \n4  not available in demo dataset    not available in demo dataset   \n\n        device.mobileDeviceModel     device.mobileInputSelector  \\\n0  not available in demo dataset  not available in demo dataset   \n1  not available in demo dataset  not available in demo dataset   \n2  not available in demo dataset  not available in demo dataset   \n3  not available in demo dataset  not available in demo dataset   \n4  not available in demo dataset  not available in demo dataset   \n\n  device.operatingSystem  device.operatingSystemVersion  \\\n0                Windows  not available in demo dataset   \n1              Macintosh  not available in demo dataset   \n2                Windows  not available in demo dataset   \n3                  Linux  not available in demo dataset   \n4                Android  not available in demo dataset   \n\n             device.screenColors        device.screenResolution  \\\n0  not available in demo dataset  not available in demo dataset   \n1  not available in demo dataset  not available in demo dataset   \n2  not available in demo dataset  not available in demo dataset   \n3  not available in demo dataset  not available in demo dataset   \n4  not available in demo dataset  not available in demo dataset   \n\n                 geoNetwork.city              geoNetwork.cityId  \\\n0                          Izmir  not available in demo dataset   \n1  not available in demo dataset  not available in demo dataset   \n2                         Madrid  not available in demo dataset   \n3  not available in demo dataset  not available in demo dataset   \n4  not available in demo dataset  not available in demo dataset   \n\n  geoNetwork.continent geoNetwork.country            geoNetwork.latitude  \\\n0                 Asia             Turkey  not available in demo dataset   \n1              Oceania          Australia  not available in demo dataset   \n2               Europe              Spain  not available in demo dataset   \n3                 Asia          Indonesia  not available in demo dataset   \n4               Europe     United Kingdom  not available in demo dataset   \n\n            geoNetwork.longitude               geoNetwork.metro  \\\n0  not available in demo dataset                      (not set)   \n1  not available in demo dataset  not available in demo dataset   \n2  not available in demo dataset                      (not set)   \n3  not available in demo dataset  not available in demo dataset   \n4  not available in demo dataset  not available in demo dataset   \n\n  geoNetwork.networkDomain     geoNetwork.networkLocation  \\\n0             ttnet.com.tr  not available in demo dataset   \n1              dodo.net.au  not available in demo dataset   \n2          unknown.unknown  not available in demo dataset   \n3          unknown.unknown  not available in demo dataset   \n4          unknown.unknown  not available in demo dataset   \n\n               geoNetwork.region geoNetwork.subContinent totals.bounces  \\\n0                          Izmir            Western Asia              1   \n1  not available in demo dataset             Australasia              1   \n2            Community of Madrid         Southern Europe              1   \n3  not available in demo dataset          Southeast Asia              1   \n4  not available in demo dataset         Northern Europe              1   \n\n  totals.hits totals.newVisits totals.pageviews totals.transactionRevenue  \\\n0           1                1                1                       NaN   \n1           1                1                1                       NaN   \n2           1                1                1                       NaN   \n3           1                1                1                       NaN   \n4           1              NaN                1                       NaN   \n\n  totals.visits trafficSource.adContent  \\\n0             1                     NaN   \n1             1                     NaN   \n2             1                     NaN   \n3             1                     NaN   \n4             1                     NaN   \n\n  trafficSource.adwordsClickInfo.adNetworkType  \\\n0                                          NaN   \n1                                          NaN   \n2                                          NaN   \n3                                          NaN   \n4                                          NaN   \n\n  trafficSource.adwordsClickInfo.criteriaParameters  \\\n0                     not available in demo dataset   \n1                     not available in demo dataset   \n2                     not available in demo dataset   \n3                     not available in demo dataset   \n4                     not available in demo dataset   \n\n  trafficSource.adwordsClickInfo.gclId  \\\n0                                  NaN   \n1                                  NaN   \n2                                  NaN   \n3                                  NaN   \n4                                  NaN   \n\n  trafficSource.adwordsClickInfo.isVideoAd  \\\n0                                      NaN   \n1                                      NaN   \n2                                      NaN   \n3                                      NaN   \n4                                      NaN   \n\n  trafficSource.adwordsClickInfo.page trafficSource.adwordsClickInfo.slot  \\\n0                                 NaN                                 NaN   \n1                                 NaN                                 NaN   \n2                                 NaN                                 NaN   \n3                                 NaN                                 NaN   \n4                                 NaN                                 NaN   \n\n  trafficSource.campaign trafficSource.campaignCode  \\\n0              (not set)                        NaN   \n1              (not set)                        NaN   \n2              (not set)                        NaN   \n3              (not set)                        NaN   \n4              (not set)                        NaN   \n\n  trafficSource.isTrueDirect trafficSource.keyword trafficSource.medium  \\\n0                        NaN        (not provided)              organic   \n1                        NaN        (not provided)              organic   \n2                        NaN        (not provided)              organic   \n3                        NaN       google + online              organic   \n4                       True        (not provided)              organic   \n\n  trafficSource.referralPath trafficSource.source  \n0                        NaN               google  \n1                        NaN               google  \n2                        NaN               google  \n3                        NaN               google  \n4                        NaN               google  ",
            "text/html": "<div>\n<style scoped>\n    .dataframe tbody tr th:only-of-type {\n        vertical-align: middle;\n    }\n\n    .dataframe tbody tr th {\n        vertical-align: top;\n    }\n\n    .dataframe thead th {\n        text-align: right;\n    }\n</style>\n<table border=\"1\" class=\"dataframe\">\n  <thead>\n    <tr style=\"text-align: right;\">\n      <th></th>\n      <th>channelGrouping</th>\n      <th>date</th>\n      <th>fullVisitorId</th>\n      <th>sessionId</th>\n      <th>socialEngagementType</th>\n      <th>visitId</th>\n      <th>visitNumber</th>\n      <th>visitStartTime</th>\n      <th>device.browser</th>\n      <th>device.browserSize</th>\n      <th>device.browserVersion</th>\n      <th>device.deviceCategory</th>\n      <th>device.flashVersion</th>\n      <th>device.isMobile</th>\n      <th>device.language</th>\n      <th>device.mobileDeviceBranding</th>\n      <th>device.mobileDeviceInfo</th>\n      <th>device.mobileDeviceMarketingName</th>\n      <th>device.mobileDeviceModel</th>\n      <th>device.mobileInputSelector</th>\n      <th>device.operatingSystem</th>\n      <th>device.operatingSystemVersion</th>\n      <th>device.screenColors</th>\n      <th>device.screenResolution</th>\n      <th>geoNetwork.city</th>\n      <th>geoNetwork.cityId</th>\n      <th>geoNetwork.continent</th>\n      <th>geoNetwork.country</th>\n      <th>geoNetwork.latitude</th>\n      <th>geoNetwork.longitude</th>\n      <th>geoNetwork.metro</th>\n      <th>geoNetwork.networkDomain</th>\n      <th>geoNetwork.networkLocation</th>\n      <th>geoNetwork.region</th>\n      <th>geoNetwork.subContinent</th>\n      <th>totals.bounces</th>\n      <th>totals.hits</th>\n      <th>totals.newVisits</th>\n      <th>totals.pageviews</th>\n      <th>totals.transactionRevenue</th>\n      <th>totals.visits</th>\n      <th>trafficSource.adContent</th>\n      <th>trafficSource.adwordsClickInfo.adNetworkType</th>\n      <th>trafficSource.adwordsClickInfo.criteriaParameters</th>\n      <th>trafficSource.adwordsClickInfo.gclId</th>\n      <th>trafficSource.adwordsClickInfo.isVideoAd</th>\n      <th>trafficSource.adwordsClickInfo.page</th>\n      <th>trafficSource.adwordsClickInfo.slot</th>\n      <th>trafficSource.campaign</th>\n      <th>trafficSource.campaignCode</th>\n      <th>trafficSource.isTrueDirect</th>\n      <th>trafficSource.keyword</th>\n      <th>trafficSource.medium</th>\n      <th>trafficSource.referralPath</th>\n      <th>trafficSource.source</th>\n    </tr>\n  </thead>\n  <tbody>\n    <tr>\n      <th>0</th>\n      <td>Organic Search</td>\n      <td>20160902</td>\n      <td>1131660440785968503</td>\n      <td>1131660440785968503_1472830385</td>\n      <td>Not Socially Engaged</td>\n      <td>1472830385</td>\n      <td>1</td>\n      <td>1472830385</td>\n      <td>Chrome</td>\n      <td>not available in demo dataset</td>\n      <td>not available in demo dataset</td>\n      <td>desktop</td>\n      <td>not available in demo dataset</td>\n      <td>False</td>\n      <td>not available in demo dataset</td>\n      <td>not available in demo dataset</td>\n      <td>not available in demo dataset</td>\n      <td>not available in demo dataset</td>\n      <td>not available in demo dataset</td>\n      <td>not available in demo dataset</td>\n      <td>Windows</td>\n      <td>not available in demo dataset</td>\n      <td>not available in demo dataset</td>\n      <td>not available in demo dataset</td>\n      <td>Izmir</td>\n      <td>not available in demo dataset</td>\n      <td>Asia</td>\n      <td>Turkey</td>\n      <td>not available in demo dataset</td>\n      <td>not available in demo dataset</td>\n      <td>(not set)</td>\n      <td>ttnet.com.tr</td>\n      <td>not available in demo dataset</td>\n      <td>Izmir</td>\n      <td>Western Asia</td>\n      <td>1</td>\n      <td>1</td>\n      <td>1</td>\n      <td>1</td>\n      <td>NaN</td>\n      <td>1</td>\n      <td>NaN</td>\n      <td>NaN</td>\n      <td>not available in demo dataset</td>\n      <td>NaN</td>\n      <td>NaN</td>\n      <td>NaN</td>\n      <td>NaN</td>\n      <td>(not set)</td>\n      <td>NaN</td>\n      <td>NaN</td>\n      <td>(not provided)</td>\n      <td>organic</td>\n      <td>NaN</td>\n      <td>google</td>\n    </tr>\n    <tr>\n      <th>1</th>\n      <td>Organic Search</td>\n      <td>20160902</td>\n      <td>377306020877927890</td>\n      <td>377306020877927890_1472880147</td>\n      <td>Not Socially Engaged</td>\n      <td>1472880147</td>\n      <td>1</td>\n      <td>1472880147</td>\n      <td>Firefox</td>\n      <td>not available in demo dataset</td>\n      <td>not available in demo dataset</td>\n      <td>desktop</td>\n      <td>not available in demo dataset</td>\n      <td>False</td>\n      <td>not available in demo dataset</td>\n      <td>not available in demo dataset</td>\n      <td>not available in demo dataset</td>\n      <td>not available in demo dataset</td>\n      <td>not available in demo dataset</td>\n      <td>not available in demo dataset</td>\n      <td>Macintosh</td>\n      <td>not available in demo dataset</td>\n      <td>not available in demo dataset</td>\n      <td>not available in demo dataset</td>\n      <td>not available in demo dataset</td>\n      <td>not available in demo dataset</td>\n      <td>Oceania</td>\n      <td>Australia</td>\n      <td>not available in demo dataset</td>\n      <td>not available in demo dataset</td>\n      <td>not available in demo dataset</td>\n      <td>dodo.net.au</td>\n      <td>not available in demo dataset</td>\n      <td>not available in demo dataset</td>\n      <td>Australasia</td>\n      <td>1</td>\n      <td>1</td>\n      <td>1</td>\n      <td>1</td>\n      <td>NaN</td>\n      <td>1</td>\n      <td>NaN</td>\n      <td>NaN</td>\n      <td>not available in demo dataset</td>\n      <td>NaN</td>\n      <td>NaN</td>\n      <td>NaN</td>\n      <td>NaN</td>\n      <td>(not set)</td>\n      <td>NaN</td>\n      <td>NaN</td>\n      <td>(not provided)</td>\n      <td>organic</td>\n      <td>NaN</td>\n      <td>google</td>\n    </tr>\n    <tr>\n      <th>2</th>\n      <td>Organic Search</td>\n      <td>20160902</td>\n      <td>3895546263509774583</td>\n      <td>3895546263509774583_1472865386</td>\n      <td>Not Socially Engaged</td>\n      <td>1472865386</td>\n      <td>1</td>\n      <td>1472865386</td>\n      <td>Chrome</td>\n      <td>not available in demo dataset</td>\n      <td>not available in demo dataset</td>\n      <td>desktop</td>\n      <td>not available in demo dataset</td>\n      <td>False</td>\n      <td>not available in demo dataset</td>\n      <td>not available in demo dataset</td>\n      <td>not available in demo dataset</td>\n      <td>not available in demo dataset</td>\n      <td>not available in demo dataset</td>\n      <td>not available in demo dataset</td>\n      <td>Windows</td>\n      <td>not available in demo dataset</td>\n      <td>not available in demo dataset</td>\n      <td>not available in demo dataset</td>\n      <td>Madrid</td>\n      <td>not available in demo dataset</td>\n      <td>Europe</td>\n      <td>Spain</td>\n      <td>not available in demo dataset</td>\n      <td>not available in demo dataset</td>\n      <td>(not set)</td>\n      <td>unknown.unknown</td>\n      <td>not available in demo dataset</td>\n      <td>Community of Madrid</td>\n      <td>Southern Europe</td>\n      <td>1</td>\n      <td>1</td>\n      <td>1</td>\n      <td>1</td>\n      <td>NaN</td>\n      <td>1</td>\n      <td>NaN</td>\n      <td>NaN</td>\n      <td>not available in demo dataset</td>\n      <td>NaN</td>\n      <td>NaN</td>\n      <td>NaN</td>\n      <td>NaN</td>\n      <td>(not set)</td>\n      <td>NaN</td>\n      <td>NaN</td>\n      <td>(not provided)</td>\n      <td>organic</td>\n      <td>NaN</td>\n      <td>google</td>\n    </tr>\n    <tr>\n      <th>3</th>\n      <td>Organic Search</td>\n      <td>20160902</td>\n      <td>4763447161404445595</td>\n      <td>4763447161404445595_1472881213</td>\n      <td>Not Socially Engaged</td>\n      <td>1472881213</td>\n      <td>1</td>\n      <td>1472881213</td>\n      <td>UC Browser</td>\n      <td>not available in demo dataset</td>\n      <td>not available in demo dataset</td>\n      <td>desktop</td>\n      <td>not available in demo dataset</td>\n      <td>False</td>\n      <td>not available in demo dataset</td>\n      <td>not available in demo dataset</td>\n      <td>not available in demo dataset</td>\n      <td>not available in demo dataset</td>\n      <td>not available in demo dataset</td>\n      <td>not available in demo dataset</td>\n      <td>Linux</td>\n      <td>not available in demo dataset</td>\n      <td>not available in demo dataset</td>\n      <td>not available in demo dataset</td>\n      <td>not available in demo dataset</td>\n      <td>not available in demo dataset</td>\n      <td>Asia</td>\n      <td>Indonesia</td>\n      <td>not available in demo dataset</td>\n      <td>not available in demo dataset</td>\n      <td>not available in demo dataset</td>\n      <td>unknown.unknown</td>\n      <td>not available in demo dataset</td>\n      <td>not available in demo dataset</td>\n      <td>Southeast Asia</td>\n      <td>1</td>\n      <td>1</td>\n      <td>1</td>\n      <td>1</td>\n      <td>NaN</td>\n      <td>1</td>\n      <td>NaN</td>\n      <td>NaN</td>\n      <td>not available in demo dataset</td>\n      <td>NaN</td>\n      <td>NaN</td>\n      <td>NaN</td>\n      <td>NaN</td>\n      <td>(not set)</td>\n      <td>NaN</td>\n      <td>NaN</td>\n      <td>google + online</td>\n      <td>organic</td>\n      <td>NaN</td>\n      <td>google</td>\n    </tr>\n    <tr>\n      <th>4</th>\n      <td>Organic Search</td>\n      <td>20160902</td>\n      <td>27294437909732085</td>\n      <td>27294437909732085_1472822600</td>\n      <td>Not Socially Engaged</td>\n      <td>1472822600</td>\n      <td>2</td>\n      <td>1472822600</td>\n      <td>Chrome</td>\n      <td>not available in demo dataset</td>\n      <td>not available in demo dataset</td>\n      <td>mobile</td>\n      <td>not available in demo dataset</td>\n      <td>True</td>\n      <td>not available in demo dataset</td>\n      <td>not available in demo dataset</td>\n      <td>not available in demo dataset</td>\n      <td>not available in demo dataset</td>\n      <td>not available in demo dataset</td>\n      <td>not available in demo dataset</td>\n      <td>Android</td>\n      <td>not available in demo dataset</td>\n      <td>not available in demo dataset</td>\n      <td>not available in demo dataset</td>\n      <td>not available in demo dataset</td>\n      <td>not available in demo dataset</td>\n      <td>Europe</td>\n      <td>United Kingdom</td>\n      <td>not available in demo dataset</td>\n      <td>not available in demo dataset</td>\n      <td>not available in demo dataset</td>\n      <td>unknown.unknown</td>\n      <td>not available in demo dataset</td>\n      <td>not available in demo dataset</td>\n      <td>Northern Europe</td>\n      <td>1</td>\n      <td>1</td>\n      <td>NaN</td>\n      <td>1</td>\n      <td>NaN</td>\n      <td>1</td>\n      <td>NaN</td>\n      <td>NaN</td>\n      <td>not available in demo dataset</td>\n      <td>NaN</td>\n      <td>NaN</td>\n      <td>NaN</td>\n      <td>NaN</td>\n      <td>(not set)</td>\n      <td>NaN</td>\n      <td>True</td>\n      <td>(not provided)</td>\n      <td>organic</td>\n      <td>NaN</td>\n      <td>google</td>\n    </tr>\n  </tbody>\n</table>\n</div>"
          },
          "metadata": {}
        }
      ]
    },
    {
      "metadata": {
        "_uuid": "d47ae7d3baba549539adc896419dcb0baaa5e465"
      },
      "cell_type": "markdown",
      "source": "Lets perform EDA:\n\nEach row in the dataset is one visit to the store.\n\nNow lets check whether the given dataset conforms 80/20 rule :\n\n* First convert values of totals.transactionRevenue to float \n* Group values according to fullVisitorId ( i.e we are calculating revenue from each customer )\n* Then consider only those customers who have revenue more than zero and find out the ratio. "
    },
    {
      "metadata": {
        "_uuid": "870d95b29045174fb4aa777952b04a01c48340a8",
        "trusted": true
      },
      "cell_type": "code",
      "source": "train_df[\"totals.transactionRevenue\"] = train_df[\"totals.transactionRevenue\"].astype('float')\ngrouped_revenue = train_df.groupby(\"fullVisitorId\")[\"totals.transactionRevenue\"].sum().reset_index()\n\nnon_zero_customers = (grouped_revenue[\"totals.transactionRevenue\"]>0).sum()\nprint(\"Number of unique customers with non-zero revenue : \", non_zero_customers, \"and the ratio is : \", non_zero_customers / grouped_revenue.shape[0])",
      "execution_count": 54,
      "outputs": [
        {
          "output_type": "stream",
          "text": "Number of unique customers with non-zero revenue :  9996 and the ratio is :  0.013996726255903731\n",
          "name": "stdout"
        }
      ]
    },
    {
      "metadata": {
        "_cell_guid": "79c7e3d0-c299-4dcb-8224-4455121ee9b0",
        "_kg_hide-input": true,
        "_uuid": "d629ff2d2480ee46fbb7e2d37f6b5fab8052498a",
        "collapsed": true
      },
      "cell_type": "markdown",
      "source": "So the ratio of revenue generating customers to total number of customers is 1.3%. From the above analysis it is confirmed that only 1.3% of the customers bring in revenue to Gstore."
    },
    {
      "metadata": {
        "_uuid": "3397da66a795e1e032cbb928df0c85ca0f64bb55"
      },
      "cell_type": "markdown",
      "source": "**Data pre-processing:**\n\nSome columns have constant values and missing values. So, Lets examine that and drop those columns from feature set which would make our dataset more useful while training models.\n\n"
    },
    {
      "metadata": {
        "trusted": true,
        "_uuid": "798b02e13b95f98f02816b81bc627eac1a82de2d"
      },
      "cell_type": "code",
      "source": "# convert the 'date' column values to datetime object\nimport datetime\ntrain_df['date'] = train_df['date'].apply(lambda x: datetime.date(int(str(x)[:4]), int(str(x)[4:6]), int(str(x)[6:])))\ntest_df['date'] = test_df['date'].apply(lambda x: datetime.date(int(str(x)[:4]), int(str(x)[4:6]), int(str(x)[6:])))",
      "execution_count": 55,
      "outputs": []
    },
    {
      "metadata": {
        "trusted": true,
        "_uuid": "21ffadde8972b409bbbd862dfce5cdd573ba2859"
      },
      "cell_type": "code",
      "source": "consts = [c for c in train_df.columns if train_df[c].nunique(dropna=False)==1 ] #lets include nan values in the count(nunique())\nconsts",
      "execution_count": 56,
      "outputs": [
        {
          "output_type": "execute_result",
          "execution_count": 56,
          "data": {
            "text/plain": "['socialEngagementType',\n 'device.browserSize',\n 'device.browserVersion',\n 'device.flashVersion',\n 'device.language',\n 'device.mobileDeviceBranding',\n 'device.mobileDeviceInfo',\n 'device.mobileDeviceMarketingName',\n 'device.mobileDeviceModel',\n 'device.mobileInputSelector',\n 'device.operatingSystemVersion',\n 'device.screenColors',\n 'device.screenResolution',\n 'geoNetwork.cityId',\n 'geoNetwork.latitude',\n 'geoNetwork.longitude',\n 'geoNetwork.networkLocation',\n 'totals.visits',\n 'trafficSource.adwordsClickInfo.criteriaParameters']"
          },
          "metadata": {}
        }
      ]
    },
    {
      "metadata": {
        "_uuid": "c14480fe6ae613a6b254b6219503fe88c902ef71"
      },
      "cell_type": "markdown",
      "source": "As we know that train set has 55 columns whereas test set has 53 ,lets examine which of those two can be target variable."
    },
    {
      "metadata": {
        "trusted": true,
        "_uuid": "37842a63f589c3bc61c75254c6fd38e2407f450a"
      },
      "cell_type": "code",
      "source": "set(train_df.columns).difference(set(test_df.columns))",
      "execution_count": 57,
      "outputs": [
        {
          "output_type": "execute_result",
          "execution_count": 57,
          "data": {
            "text/plain": "{'totals.transactionRevenue', 'trafficSource.campaignCode'}"
          },
          "metadata": {}
        }
      ]
    },
    {
      "metadata": {
        "_uuid": "59ae9a092f50293243c26560967eeeb852362c30"
      },
      "cell_type": "markdown",
      "source": "As 'trafficSource.campaignCode' is an extra feature not in test set (other than target variable 'totals.transactionRevenue' ).Lets drop this also. Even sessionId can be removed as this is just a unique number for each visit.\n\nSo lets drop consts (columns with constant values),  'sessionId', 'trafficSource.campaignCode'."
    },
    {
      "metadata": {
        "trusted": true,
        "_uuid": "22280fbf84468dab80cc8fc15f0f1dd0cc33bba0"
      },
      "cell_type": "code",
      "source": "cols_to_drop = consts + ['sessionId'] + [\"trafficSource.campaignCode\"]\ntrain_df = train_df.drop(cols_to_drop, axis=1)\ntest_df = test_df.drop(cols_to_drop[:-1], axis=1)",
      "execution_count": 58,
      "outputs": []
    },
    {
      "metadata": {
        "_uuid": "bf6442e295de858d14e3561a07c637cb60f0e8ce"
      },
      "cell_type": "markdown",
      "source": "* Fill in missing values to 0.\n* Now, Identify categorical variables and convert to numbers i.e label encode them.\n* Identify numeric variables and convert them to floats.\n\n**Note**: Do not include IDs and dates to any of the above operations."
    },
    {
      "metadata": {
        "trusted": true,
        "_uuid": "d511ef3a9e350c0c048fd38dbdf8ab93431f76a4"
      },
      "cell_type": "code",
      "source": "#train_df.head()\n#train_df.info()\n#train_df.describe()\n\ntrain_df[\"totals.transactionRevenue\"].fillna(0, inplace=True)\ntrain_y = train_df[\"totals.transactionRevenue\"].values\n#################train_id = train_df[\"fullVisitorId\"].values\n#################test_id = test_df[\"fullVisitorId\"].values\n\n#identify categorical variables and label encode them.\ncategorical_cols = [\"channelGrouping\", \"device.browser\", \n            \"device.deviceCategory\", \"device.operatingSystem\", \n            \"geoNetwork.city\", \"geoNetwork.continent\", \n            \"geoNetwork.country\", \"geoNetwork.metro\",\n            \"geoNetwork.networkDomain\", \"geoNetwork.region\", \n            \"geoNetwork.subContinent\", \"trafficSource.adContent\", \n            \"trafficSource.adwordsClickInfo.adNetworkType\", \n            \"trafficSource.adwordsClickInfo.gclId\", \n            \"trafficSource.adwordsClickInfo.page\", \n            \"trafficSource.adwordsClickInfo.slot\", \"trafficSource.campaign\",\n            \"trafficSource.keyword\", \"trafficSource.medium\", \n            \"trafficSource.referralPath\", \"trafficSource.source\",\n            'trafficSource.adwordsClickInfo.isVideoAd', 'trafficSource.isTrueDirect']\n\nfor col in categorical_cols:\n    print(col)\n    lbl = preprocessing.LabelEncoder()\n    lbl.fit(list(train_df[col].values.astype('str')) + list(test_df[col].values.astype('str')))\n    train_df[col] = lbl.transform(list(train_df[col].values.astype('str')))\n    test_df[col] = lbl.transform(list(test_df[col].values.astype('str')))\n\n\nnumeric_cols = [\"totals.hits\", \"totals.pageviews\", \"visitNumber\", \"visitStartTime\", 'totals.bounces',  'totals.newVisits']    \nfor col in numeric_cols:\n    train_df[col] = train_df[col].astype(float)\n    test_df[col] = test_df[col].astype(float)\n",
      "execution_count": 59,
      "outputs": [
        {
          "output_type": "stream",
          "text": "channelGrouping\ndevice.browser\ndevice.deviceCategory\ndevice.operatingSystem\ngeoNetwork.city\ngeoNetwork.continent\ngeoNetwork.country\ngeoNetwork.metro\ngeoNetwork.networkDomain\ngeoNetwork.region\ngeoNetwork.subContinent\ntrafficSource.adContent\ntrafficSource.adwordsClickInfo.adNetworkType\ntrafficSource.adwordsClickInfo.gclId\ntrafficSource.adwordsClickInfo.page\ntrafficSource.adwordsClickInfo.slot\ntrafficSource.campaign\ntrafficSource.keyword\ntrafficSource.medium\ntrafficSource.referralPath\ntrafficSource.source\ntrafficSource.adwordsClickInfo.isVideoAd\ntrafficSource.isTrueDirect\n",
          "name": "stdout"
        }
      ]
    },
    {
      "metadata": {
        "_uuid": "c727df0fcd963153c59d59235a8a2a19342baae4"
      },
      "cell_type": "markdown",
      "source": "As the training set contains data from August 1st 2016 to August 1st 2017. Then take cross-validation set as last three month's data which makes the ratio of train set to cross-val set  roughly 7.5 : 2.5 .(This is considering months but not no of examples in trainset , so might not be exactly 7.5 : 2.5)."
    },
    {
      "metadata": {
        "trusted": true,
        "_uuid": "ef002df940bf4403b5960ba003bcc7ed77427c57"
      },
      "cell_type": "code",
      "source": "\n\n# Split the train dataset into development and valid based on time \ndev_df = train_df[train_df['date']<=datetime.date(2017,5,31)]\nval_df = train_df[train_df['date']>datetime.date(2017,5,31)]\n\ndev_y = np.log1p(dev_df[\"totals.transactionRevenue\"].values)\nval_y = np.log1p(val_df[\"totals.transactionRevenue\"].values)\n\ndev_X = dev_df[categorical_cols + numeric_cols] \nval_X = val_df[categorical_cols + numeric_cols] \ntest_X = test_df[categorical_cols + numeric_cols] ",
      "execution_count": 61,
      "outputs": []
    },
    {
      "metadata": {
        "_uuid": "4786d952c50855d552e25df9aa37bbe198e6dc7c"
      },
      "cell_type": "markdown",
      "source": "As we have large dataset (with more columns >30 and rows > 100000)its better to use ensemble learning.So lets try XGBOOST.\n\nEnsemble is a collection of predictors which come together (e.g. mean of all predictions) to give a final prediction.Boosting is an ensemble technique in which the predictors are not made independently, but sequentially (can overfit if stopping criteria isnt chosen well).\n\nThe gist on how it works is, \n* A base model is created and is used to make predictions on the whole dataset.\n* Then residual is calculated and observations which are incorrectly predicted are given higher weights.\n* The next sequential model tries to correct the errors from the previous model.\n* Similarly, multiple models are created, correcting the errors of the previous model.\n* The final model (strong learner) is the weighted mean of all the models (weak learners).\n\n e1= y - y_pred1<br> \n y_pred2 = y_pred1 + e1_pred<br>\n e2 = y - y_pred2<br> \n and so on.\n"
    }
  ],
  "metadata": {
    "kernelspec": {
      "display_name": "Python 3",
      "language": "python",
      "name": "python3"
    },
    "language_info": {
      "name": "python",
      "version": "3.6.6",
      "mimetype": "text/x-python",
      "codemirror_mode": {
        "name": "ipython",
        "version": 3
      },
      "pygments_lexer": "ipython3",
      "nbconvert_exporter": "python",
      "file_extension": ".py"
    }
  },
  "nbformat": 4,
  "nbformat_minor": 1
}